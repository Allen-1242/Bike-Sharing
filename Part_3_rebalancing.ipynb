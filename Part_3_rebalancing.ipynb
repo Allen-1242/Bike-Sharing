{
 "cells": [
  {
   "cell_type": "code",
   "execution_count": 29,
   "metadata": {},
   "outputs": [],
   "source": [
    "import pandas as pd\n",
    "import numpy as np\n",
    "import matplotlib.pyplot as plt\n",
    "import folium\n",
    "import math "
   ]
  },
  {
   "cell_type": "code",
   "execution_count": 2,
   "metadata": {},
   "outputs": [
    {
     "data": {
      "text/html": [
       "<div>\n",
       "<style scoped>\n",
       "    .dataframe tbody tr th:only-of-type {\n",
       "        vertical-align: middle;\n",
       "    }\n",
       "\n",
       "    .dataframe tbody tr th {\n",
       "        vertical-align: top;\n",
       "    }\n",
       "\n",
       "    .dataframe thead th {\n",
       "        text-align: right;\n",
       "    }\n",
       "</style>\n",
       "<table border=\"1\" class=\"dataframe\">\n",
       "  <thead>\n",
       "    <tr style=\"text-align: right;\">\n",
       "      <th></th>\n",
       "      <th>duration_sec</th>\n",
       "      <th>start_time</th>\n",
       "      <th>end_time</th>\n",
       "      <th>start_station_id</th>\n",
       "      <th>start_station_name</th>\n",
       "      <th>start_station_latitude</th>\n",
       "      <th>start_station_longitude</th>\n",
       "      <th>end_station_id</th>\n",
       "      <th>end_station_name</th>\n",
       "      <th>end_station_latitude</th>\n",
       "      <th>end_station_longitude</th>\n",
       "      <th>bike_id</th>\n",
       "      <th>user_type</th>\n",
       "      <th>member_birth_year</th>\n",
       "      <th>member_gender</th>\n",
       "    </tr>\n",
       "  </thead>\n",
       "  <tbody>\n",
       "    <tr>\n",
       "      <th>0</th>\n",
       "      <td>80110</td>\n",
       "      <td>2017-12-31 16:57:39.6540</td>\n",
       "      <td>2018-01-01 15:12:50.2450</td>\n",
       "      <td>74</td>\n",
       "      <td>Laguna St at Hayes St</td>\n",
       "      <td>37.776435</td>\n",
       "      <td>-122.426244</td>\n",
       "      <td>43</td>\n",
       "      <td>San Francisco Public Library (Grove St at Hyde...</td>\n",
       "      <td>37.778768</td>\n",
       "      <td>-122.415929</td>\n",
       "      <td>96</td>\n",
       "      <td>Customer</td>\n",
       "      <td>1987.0</td>\n",
       "      <td>Male</td>\n",
       "    </tr>\n",
       "    <tr>\n",
       "      <th>1</th>\n",
       "      <td>78800</td>\n",
       "      <td>2017-12-31 15:56:34.8420</td>\n",
       "      <td>2018-01-01 13:49:55.6170</td>\n",
       "      <td>284</td>\n",
       "      <td>Yerba Buena Center for the Arts (Howard St at ...</td>\n",
       "      <td>37.784872</td>\n",
       "      <td>-122.400876</td>\n",
       "      <td>96</td>\n",
       "      <td>Dolores St at 15th St</td>\n",
       "      <td>37.766210</td>\n",
       "      <td>-122.426614</td>\n",
       "      <td>88</td>\n",
       "      <td>Customer</td>\n",
       "      <td>1965.0</td>\n",
       "      <td>Female</td>\n",
       "    </tr>\n",
       "    <tr>\n",
       "      <th>2</th>\n",
       "      <td>45768</td>\n",
       "      <td>2017-12-31 22:45:48.4110</td>\n",
       "      <td>2018-01-01 11:28:36.8830</td>\n",
       "      <td>245</td>\n",
       "      <td>Downtown Berkeley BART</td>\n",
       "      <td>37.870348</td>\n",
       "      <td>-122.267764</td>\n",
       "      <td>245</td>\n",
       "      <td>Downtown Berkeley BART</td>\n",
       "      <td>37.870348</td>\n",
       "      <td>-122.267764</td>\n",
       "      <td>1094</td>\n",
       "      <td>Customer</td>\n",
       "      <td>NaN</td>\n",
       "      <td>NaN</td>\n",
       "    </tr>\n",
       "    <tr>\n",
       "      <th>3</th>\n",
       "      <td>62172</td>\n",
       "      <td>2017-12-31 17:31:10.6360</td>\n",
       "      <td>2018-01-01 10:47:23.5310</td>\n",
       "      <td>60</td>\n",
       "      <td>8th St at Ringold St</td>\n",
       "      <td>37.774520</td>\n",
       "      <td>-122.409449</td>\n",
       "      <td>5</td>\n",
       "      <td>Powell St BART Station (Market St at 5th St)</td>\n",
       "      <td>37.783899</td>\n",
       "      <td>-122.408445</td>\n",
       "      <td>2831</td>\n",
       "      <td>Customer</td>\n",
       "      <td>NaN</td>\n",
       "      <td>NaN</td>\n",
       "    </tr>\n",
       "    <tr>\n",
       "      <th>4</th>\n",
       "      <td>43603</td>\n",
       "      <td>2017-12-31 14:23:14.0010</td>\n",
       "      <td>2018-01-01 02:29:57.5710</td>\n",
       "      <td>239</td>\n",
       "      <td>Bancroft Way at Telegraph Ave</td>\n",
       "      <td>37.868813</td>\n",
       "      <td>-122.258764</td>\n",
       "      <td>247</td>\n",
       "      <td>Fulton St at Bancroft Way</td>\n",
       "      <td>37.867789</td>\n",
       "      <td>-122.265896</td>\n",
       "      <td>3167</td>\n",
       "      <td>Subscriber</td>\n",
       "      <td>1997.0</td>\n",
       "      <td>Female</td>\n",
       "    </tr>\n",
       "  </tbody>\n",
       "</table>\n",
       "</div>"
      ],
      "text/plain": [
       "   duration_sec                start_time                  end_time  \\\n",
       "0         80110  2017-12-31 16:57:39.6540  2018-01-01 15:12:50.2450   \n",
       "1         78800  2017-12-31 15:56:34.8420  2018-01-01 13:49:55.6170   \n",
       "2         45768  2017-12-31 22:45:48.4110  2018-01-01 11:28:36.8830   \n",
       "3         62172  2017-12-31 17:31:10.6360  2018-01-01 10:47:23.5310   \n",
       "4         43603  2017-12-31 14:23:14.0010  2018-01-01 02:29:57.5710   \n",
       "\n",
       "   start_station_id                                 start_station_name  \\\n",
       "0                74                              Laguna St at Hayes St   \n",
       "1               284  Yerba Buena Center for the Arts (Howard St at ...   \n",
       "2               245                             Downtown Berkeley BART   \n",
       "3                60                               8th St at Ringold St   \n",
       "4               239                      Bancroft Way at Telegraph Ave   \n",
       "\n",
       "   start_station_latitude  start_station_longitude  end_station_id  \\\n",
       "0               37.776435              -122.426244              43   \n",
       "1               37.784872              -122.400876              96   \n",
       "2               37.870348              -122.267764             245   \n",
       "3               37.774520              -122.409449               5   \n",
       "4               37.868813              -122.258764             247   \n",
       "\n",
       "                                    end_station_name  end_station_latitude  \\\n",
       "0  San Francisco Public Library (Grove St at Hyde...             37.778768   \n",
       "1                              Dolores St at 15th St             37.766210   \n",
       "2                             Downtown Berkeley BART             37.870348   \n",
       "3       Powell St BART Station (Market St at 5th St)             37.783899   \n",
       "4                          Fulton St at Bancroft Way             37.867789   \n",
       "\n",
       "   end_station_longitude  bike_id   user_type  member_birth_year member_gender  \n",
       "0            -122.415929       96    Customer             1987.0          Male  \n",
       "1            -122.426614       88    Customer             1965.0        Female  \n",
       "2            -122.267764     1094    Customer                NaN           NaN  \n",
       "3            -122.408445     2831    Customer                NaN           NaN  \n",
       "4            -122.265896     3167  Subscriber             1997.0        Female  "
      ]
     },
     "execution_count": 2,
     "metadata": {},
     "output_type": "execute_result"
    }
   ],
   "source": [
    "df = pd.read_csv(\"b.csv\")\n",
    "df.head()"
   ]
  },
  {
   "cell_type": "code",
   "execution_count": 3,
   "metadata": {},
   "outputs": [
    {
     "data": {
      "text/html": [
       "<div>\n",
       "<style scoped>\n",
       "    .dataframe tbody tr th:only-of-type {\n",
       "        vertical-align: middle;\n",
       "    }\n",
       "\n",
       "    .dataframe tbody tr th {\n",
       "        vertical-align: top;\n",
       "    }\n",
       "\n",
       "    .dataframe thead th {\n",
       "        text-align: right;\n",
       "    }\n",
       "</style>\n",
       "<table border=\"1\" class=\"dataframe\">\n",
       "  <thead>\n",
       "    <tr style=\"text-align: right;\">\n",
       "      <th></th>\n",
       "      <th>start_station_latitude</th>\n",
       "      <th>start_station_longitude</th>\n",
       "      <th>end_station_latitude</th>\n",
       "      <th>end_station_longitude</th>\n",
       "    </tr>\n",
       "  </thead>\n",
       "  <tbody>\n",
       "    <tr>\n",
       "      <th>0</th>\n",
       "      <td>37.776435</td>\n",
       "      <td>-122.426244</td>\n",
       "      <td>37.778768</td>\n",
       "      <td>-122.415929</td>\n",
       "    </tr>\n",
       "    <tr>\n",
       "      <th>1</th>\n",
       "      <td>37.784872</td>\n",
       "      <td>-122.400876</td>\n",
       "      <td>37.766210</td>\n",
       "      <td>-122.426614</td>\n",
       "    </tr>\n",
       "    <tr>\n",
       "      <th>2</th>\n",
       "      <td>37.870348</td>\n",
       "      <td>-122.267764</td>\n",
       "      <td>37.870348</td>\n",
       "      <td>-122.267764</td>\n",
       "    </tr>\n",
       "    <tr>\n",
       "      <th>3</th>\n",
       "      <td>37.774520</td>\n",
       "      <td>-122.409449</td>\n",
       "      <td>37.783899</td>\n",
       "      <td>-122.408445</td>\n",
       "    </tr>\n",
       "    <tr>\n",
       "      <th>4</th>\n",
       "      <td>37.868813</td>\n",
       "      <td>-122.258764</td>\n",
       "      <td>37.867789</td>\n",
       "      <td>-122.265896</td>\n",
       "    </tr>\n",
       "  </tbody>\n",
       "</table>\n",
       "</div>"
      ],
      "text/plain": [
       "   start_station_latitude  start_station_longitude  end_station_latitude  \\\n",
       "0               37.776435              -122.426244             37.778768   \n",
       "1               37.784872              -122.400876             37.766210   \n",
       "2               37.870348              -122.267764             37.870348   \n",
       "3               37.774520              -122.409449             37.783899   \n",
       "4               37.868813              -122.258764             37.867789   \n",
       "\n",
       "   end_station_longitude  \n",
       "0            -122.415929  \n",
       "1            -122.426614  \n",
       "2            -122.267764  \n",
       "3            -122.408445  \n",
       "4            -122.265896  "
      ]
     },
     "execution_count": 3,
     "metadata": {},
     "output_type": "execute_result"
    }
   ],
   "source": [
    "#df1 = df[df.columns('start_station_latitude', 'start_station_longitude', 'end_station_latitude'\n",
    "        #'end_station_longitude')]\n",
    "df1 = df[['start_station_latitude', 'start_station_longitude', 'end_station_latitude'\n",
    "        ,'end_station_longitude']]\n",
    "df1= df1.head()\n",
    "df1"
   ]
  },
  {
   "cell_type": "code",
   "execution_count": 4,
   "metadata": {},
   "outputs": [
    {
     "data": {
      "text/html": [
       "<div>\n",
       "<style scoped>\n",
       "    .dataframe tbody tr th:only-of-type {\n",
       "        vertical-align: middle;\n",
       "    }\n",
       "\n",
       "    .dataframe tbody tr th {\n",
       "        vertical-align: top;\n",
       "    }\n",
       "\n",
       "    .dataframe thead th {\n",
       "        text-align: right;\n",
       "    }\n",
       "</style>\n",
       "<table border=\"1\" class=\"dataframe\">\n",
       "  <thead>\n",
       "    <tr style=\"text-align: right;\">\n",
       "      <th></th>\n",
       "      <th>Latitude</th>\n",
       "      <th>Longitude</th>\n",
       "    </tr>\n",
       "  </thead>\n",
       "  <tbody>\n",
       "    <tr>\n",
       "      <th>0</th>\n",
       "      <td>37.776435</td>\n",
       "      <td>-122.426244</td>\n",
       "    </tr>\n",
       "    <tr>\n",
       "      <th>1</th>\n",
       "      <td>37.784872</td>\n",
       "      <td>-122.400876</td>\n",
       "    </tr>\n",
       "    <tr>\n",
       "      <th>2</th>\n",
       "      <td>37.870348</td>\n",
       "      <td>-122.267764</td>\n",
       "    </tr>\n",
       "    <tr>\n",
       "      <th>3</th>\n",
       "      <td>37.774520</td>\n",
       "      <td>-122.409449</td>\n",
       "    </tr>\n",
       "    <tr>\n",
       "      <th>4</th>\n",
       "      <td>37.868813</td>\n",
       "      <td>-122.258764</td>\n",
       "    </tr>\n",
       "  </tbody>\n",
       "</table>\n",
       "</div>"
      ],
      "text/plain": [
       "    Latitude   Longitude\n",
       "0  37.776435 -122.426244\n",
       "1  37.784872 -122.400876\n",
       "2  37.870348 -122.267764\n",
       "3  37.774520 -122.409449\n",
       "4  37.868813 -122.258764"
      ]
     },
     "execution_count": 4,
     "metadata": {},
     "output_type": "execute_result"
    }
   ],
   "source": [
    "df2  = df1.drop([\"end_station_latitude\", \"end_station_longitude\"], axis =1)\n",
    "df2 = df2.rename(columns = {\"start_station_latitude\":\"Latitude\", \"start_station_longitude\":\"Longitude\"})\n",
    "df2.head()\n",
    "\n",
    "\n"
   ]
  },
  {
   "cell_type": "code",
   "execution_count": 5,
   "metadata": {},
   "outputs": [
    {
     "data": {
      "text/html": [
       "<div>\n",
       "<style scoped>\n",
       "    .dataframe tbody tr th:only-of-type {\n",
       "        vertical-align: middle;\n",
       "    }\n",
       "\n",
       "    .dataframe tbody tr th {\n",
       "        vertical-align: top;\n",
       "    }\n",
       "\n",
       "    .dataframe thead th {\n",
       "        text-align: right;\n",
       "    }\n",
       "</style>\n",
       "<table border=\"1\" class=\"dataframe\">\n",
       "  <thead>\n",
       "    <tr style=\"text-align: right;\">\n",
       "      <th></th>\n",
       "      <th>Latitude</th>\n",
       "      <th>Longitude</th>\n",
       "    </tr>\n",
       "  </thead>\n",
       "  <tbody>\n",
       "    <tr>\n",
       "      <th>0</th>\n",
       "      <td>37.778768</td>\n",
       "      <td>-122.415929</td>\n",
       "    </tr>\n",
       "    <tr>\n",
       "      <th>1</th>\n",
       "      <td>37.766210</td>\n",
       "      <td>-122.426614</td>\n",
       "    </tr>\n",
       "    <tr>\n",
       "      <th>2</th>\n",
       "      <td>37.870348</td>\n",
       "      <td>-122.267764</td>\n",
       "    </tr>\n",
       "    <tr>\n",
       "      <th>3</th>\n",
       "      <td>37.783899</td>\n",
       "      <td>-122.408445</td>\n",
       "    </tr>\n",
       "    <tr>\n",
       "      <th>4</th>\n",
       "      <td>37.867789</td>\n",
       "      <td>-122.265896</td>\n",
       "    </tr>\n",
       "  </tbody>\n",
       "</table>\n",
       "</div>"
      ],
      "text/plain": [
       "    Latitude   Longitude\n",
       "0  37.778768 -122.415929\n",
       "1  37.766210 -122.426614\n",
       "2  37.870348 -122.267764\n",
       "3  37.783899 -122.408445\n",
       "4  37.867789 -122.265896"
      ]
     },
     "execution_count": 5,
     "metadata": {},
     "output_type": "execute_result"
    }
   ],
   "source": [
    "df3  = df1.drop([\"start_station_latitude\", \"start_station_longitude\"], axis =1)\n",
    "df3 = df3.rename(columns = {\"end_station_latitude\":\"Latitude\", \"end_station_longitude\":\"Longitude\"})\n",
    "df3.head()"
   ]
  },
  {
   "cell_type": "code",
   "execution_count": 13,
   "metadata": {},
   "outputs": [],
   "source": [
    "df4 = pd.concat([df2,df3],axis = 0 )\n",
    "df4.reset_index(inplace= True)\n",
    "df4 = df4.rename(columns = {\"index\":\"ID\",\"Latitude\":\"lat\", \"Longitude\":\"lng\"})\n"
   ]
  },
  {
   "cell_type": "code",
   "execution_count": 14,
   "metadata": {},
   "outputs": [
    {
     "data": {
      "text/html": [
       "<div>\n",
       "<style scoped>\n",
       "    .dataframe tbody tr th:only-of-type {\n",
       "        vertical-align: middle;\n",
       "    }\n",
       "\n",
       "    .dataframe tbody tr th {\n",
       "        vertical-align: top;\n",
       "    }\n",
       "\n",
       "    .dataframe thead th {\n",
       "        text-align: right;\n",
       "    }\n",
       "</style>\n",
       "<table border=\"1\" class=\"dataframe\">\n",
       "  <thead>\n",
       "    <tr style=\"text-align: right;\">\n",
       "      <th></th>\n",
       "      <th>ID</th>\n",
       "      <th>lat</th>\n",
       "      <th>lng</th>\n",
       "    </tr>\n",
       "  </thead>\n",
       "  <tbody>\n",
       "    <tr>\n",
       "      <th>0</th>\n",
       "      <td>0</td>\n",
       "      <td>37.776435</td>\n",
       "      <td>-122.426244</td>\n",
       "    </tr>\n",
       "    <tr>\n",
       "      <th>1</th>\n",
       "      <td>1</td>\n",
       "      <td>37.784872</td>\n",
       "      <td>-122.400876</td>\n",
       "    </tr>\n",
       "    <tr>\n",
       "      <th>2</th>\n",
       "      <td>2</td>\n",
       "      <td>37.870348</td>\n",
       "      <td>-122.267764</td>\n",
       "    </tr>\n",
       "    <tr>\n",
       "      <th>3</th>\n",
       "      <td>3</td>\n",
       "      <td>37.774520</td>\n",
       "      <td>-122.409449</td>\n",
       "    </tr>\n",
       "    <tr>\n",
       "      <th>4</th>\n",
       "      <td>4</td>\n",
       "      <td>37.868813</td>\n",
       "      <td>-122.258764</td>\n",
       "    </tr>\n",
       "  </tbody>\n",
       "</table>\n",
       "</div>"
      ],
      "text/plain": [
       "   ID        lat         lng\n",
       "0   0  37.776435 -122.426244\n",
       "1   1  37.784872 -122.400876\n",
       "2   2  37.870348 -122.267764\n",
       "3   3  37.774520 -122.409449\n",
       "4   4  37.868813 -122.258764"
      ]
     },
     "execution_count": 14,
     "metadata": {},
     "output_type": "execute_result"
    }
   ],
   "source": [
    "df4.head()"
   ]
  },
  {
   "cell_type": "code",
   "execution_count": 34,
   "metadata": {},
   "outputs": [
    {
     "data": {
      "text/plain": [
       "dtype('int64')"
      ]
     },
     "execution_count": 34,
     "metadata": {},
     "output_type": "execute_result"
    }
   ],
   "source": [
    "sc_names = df4[\"ID\"]\n",
    "sc_names.dtype\n"
   ]
  },
  {
   "cell_type": "code",
   "execution_count": 32,
   "metadata": {},
   "outputs": [
    {
     "name": "stderr",
     "output_type": "stream",
     "text": [
      "/home/allen2/anaconda3/lib/python3.6/site-packages/ipykernel_launcher.py:1: UserWarning: DataFrame columns are not unique, some columns will be omitted.\n",
      "  \"\"\"Entry point for launching an IPython kernel.\n"
     ]
    },
    {
     "data": {
      "text/plain": [
       "{0: [37.7787677, -122.41592920000001],\n",
       " 1: [37.7662102, -122.4266136],\n",
       " 2: [37.8703477, -122.26776370000002],\n",
       " 3: [37.78389935708493, -122.40844488143921],\n",
       " 4: [37.867789200000004, -122.26589640000002]}"
      ]
     },
     "execution_count": 32,
     "metadata": {},
     "output_type": "execute_result"
    }
   ],
   "source": [
    "df4.set_index('ID').T.to_dict('list')"
   ]
  },
  {
   "cell_type": "code",
   "execution_count": 35,
   "metadata": {},
   "outputs": [],
   "source": [
    "def distance_on_earth(lat1, long1, lat2, long2, radius=6378.388):\n",
    "    \n",
    "    # Convert latitude and longitude to spherical coordinates in radians.\n",
    "    degrees_to_radians = np.pi / 180.0\n",
    "\n",
    "    # phi = 90 - latitude\n",
    "    phi1 = (90.0 - lat1) * degrees_to_radians\n",
    "    phi2 = (90.0 - lat2) * degrees_to_radians\n",
    "\n",
    "    # theta = longitude\n",
    "    theta1 = long1 * degrees_to_radians\n",
    "    theta2 = long2 * degrees_to_radians\n",
    "         \n",
    "    # Compute spherical distance from spherical coordinates.     \n",
    "    cos = (np.sin(phi1) * np.sin(phi2)* np.cos(theta1 - theta2) + \n",
    "           np.cos(phi1) * np.cos(phi2))\n",
    "    arc = np.arccos(cos)\n",
    "    rv = arc * radius\n",
    "    return rv"
   ]
  },
  {
   "cell_type": "code",
   "execution_count": 37,
   "metadata": {},
   "outputs": [],
   "source": [
    "distances = {}\n",
    "for i in range(len(sc_names)):\n",
    "    a = sc_names[i]\n",
    "    distances[a] = {}\n",
    "    for j in range(len(sc_names)):\n",
    "        b = sc_names[j]\n",
    "        if j == i:\n",
    "            distances[a][b] = 0.\n",
    "        elif j > i:\n",
    "            distances[a][b] = distance_on_earth(df4.ix[a, 'lat'],\n",
    "                                                df4.ix[a, 'lng'],\n",
    "                                                df4.ix[b, 'lat'],\n",
    "                                                df4.ix[b, 'lng'])\n",
    "        #else:\n",
    "            #distances[a][b] = distances[b][a]\n",
    "distances = pd.DataFrame(distances)"
   ]
  },
  {
   "cell_type": "code",
   "execution_count": 39,
   "metadata": {},
   "outputs": [
    {
     "data": {
      "text/html": [
       "<div>\n",
       "<style scoped>\n",
       "    .dataframe tbody tr th:only-of-type {\n",
       "        vertical-align: middle;\n",
       "    }\n",
       "\n",
       "    .dataframe tbody tr th {\n",
       "        vertical-align: top;\n",
       "    }\n",
       "\n",
       "    .dataframe thead th {\n",
       "        text-align: right;\n",
       "    }\n",
       "</style>\n",
       "<table border=\"1\" class=\"dataframe\">\n",
       "  <thead>\n",
       "    <tr style=\"text-align: right;\">\n",
       "      <th></th>\n",
       "      <th>0</th>\n",
       "      <th>1</th>\n",
       "      <th>2</th>\n",
       "      <th>3</th>\n",
       "      <th>4</th>\n",
       "    </tr>\n",
       "  </thead>\n",
       "  <tbody>\n",
       "    <tr>\n",
       "      <th>0</th>\n",
       "      <td>0.000000</td>\n",
       "      <td>NaN</td>\n",
       "      <td>NaN</td>\n",
       "      <td>NaN</td>\n",
       "      <td>NaN</td>\n",
       "    </tr>\n",
       "    <tr>\n",
       "      <th>1</th>\n",
       "      <td>2.421637</td>\n",
       "      <td>0.000000</td>\n",
       "      <td>NaN</td>\n",
       "      <td>NaN</td>\n",
       "      <td>NaN</td>\n",
       "    </tr>\n",
       "    <tr>\n",
       "      <th>2</th>\n",
       "      <td>17.421648</td>\n",
       "      <td>15.084465</td>\n",
       "      <td>0.000000</td>\n",
       "      <td>NaN</td>\n",
       "      <td>NaN</td>\n",
       "    </tr>\n",
       "    <tr>\n",
       "      <th>3</th>\n",
       "      <td>1.493089</td>\n",
       "      <td>1.377346</td>\n",
       "      <td>16.402379</td>\n",
       "      <td>0.000000</td>\n",
       "      <td>NaN</td>\n",
       "    </tr>\n",
       "    <tr>\n",
       "      <th>4</th>\n",
       "      <td>17.962689</td>\n",
       "      <td>15.603596</td>\n",
       "      <td>0.809148</td>\n",
       "      <td>16.904784</td>\n",
       "      <td>0.0</td>\n",
       "    </tr>\n",
       "  </tbody>\n",
       "</table>\n",
       "</div>"
      ],
      "text/plain": [
       "           0          1          2          3    4\n",
       "0   0.000000        NaN        NaN        NaN  NaN\n",
       "1   2.421637   0.000000        NaN        NaN  NaN\n",
       "2  17.421648  15.084465   0.000000        NaN  NaN\n",
       "3   1.493089   1.377346  16.402379   0.000000  NaN\n",
       "4  17.962689  15.603596   0.809148  16.904784  0.0"
      ]
     },
     "execution_count": 39,
     "metadata": {},
     "output_type": "execute_result"
    }
   ],
   "source": [
    "distances"
   ]
  },
  {
   "cell_type": "code",
   "execution_count": null,
   "metadata": {},
   "outputs": [],
   "source": [
    "#here we can see a table of the distances etween each cluster \n",
    "#Thus we now have the weights of the graph, and bythe use if tsp can caluclate\n",
    "#the ideal path "
   ]
  },
  {
   "cell_type": "code",
   "execution_count": 40,
   "metadata": {},
   "outputs": [
    {
     "data": {
      "text/plain": [
       "Text(0.5,0,'miles')"
      ]
     },
     "execution_count": 40,
     "metadata": {},
     "output_type": "execute_result"
    },
    {
     "data": {
      "image/png": "[encoded data removed]",
      "text/plain": [
       "<matplotlib.figure.Figure at 0x7fd5bc5082b0>"
      ]
     },
     "metadata": {},
     "output_type": "display_data"
    }
   ],
   "source": [
    "closest_distances = distances[distances > 0].min()\n",
    "ax = closest_distances.hist(bins=25)\n",
    "ax.set_title('histogram of distances to closest stations')\n",
    "ax.set_ylabel('number of stations')\n",
    "ax.set_xlabel('miles')\n",
    "\n"
   ]
  },
  {
   "cell_type": "code",
   "execution_count": 41,
   "metadata": {},
   "outputs": [
    {
     "data": {
      "text/plain": [
       "count     4.000000\n",
       "mean      5.146092\n",
       "std       7.844824\n",
       "min       0.809148\n",
       "25%       1.235297\n",
       "50%       1.435218\n",
       "75%       5.346012\n",
       "max      16.904784\n",
       "dtype: float64"
      ]
     },
     "execution_count": 41,
     "metadata": {},
     "output_type": "execute_result"
    }
   ],
   "source": [
    "closest_distances.describe()"
   ]
  },
  {
   "cell_type": "code",
   "execution_count": null,
   "metadata": {},
   "outputs": [],
   "source": []
  },
  {
   "cell_type": "code",
   "execution_count": 10,
   "metadata": {},
   "outputs": [
    {
     "data": {
      "text/plain": [
       "array([37.77643482, 37.78487208, 37.8703477 , 37.7745204 , 37.8688126 ,\n",
       "       37.7787677 , 37.7662102 , 37.8703477 , 37.78389936, 37.8677892 ])"
      ]
     },
     "execution_count": 10,
     "metadata": {},
     "output_type": "execute_result"
    }
   ],
   "source": [
    "df5 = df4[\"Latitude\"]\n",
    "df5 = df5.values\n",
    "df5\n"
   ]
  },
  {
   "cell_type": "code",
   "execution_count": 11,
   "metadata": {},
   "outputs": [
    {
     "data": {
      "text/plain": [
       "array([-122.42624402, -122.40087569, -122.2677637 , -122.40944937,\n",
       "       -122.258764  , -122.4159292 , -122.4266136 , -122.2677637 ,\n",
       "       -122.40844488, -122.2658964 ])"
      ]
     },
     "execution_count": 11,
     "metadata": {},
     "output_type": "execute_result"
    }
   ],
   "source": [
    "df6 = df4[\"Longitude\"]\n",
    "df6 = df6.values\n",
    "df6"
   ]
  },
  {
   "cell_type": "code",
   "execution_count": null,
   "metadata": {},
   "outputs": [],
   "source": []
  },
  {
   "cell_type": "code",
   "execution_count": 12,
   "metadata": {},
   "outputs": [],
   "source": [
    "import matplotlib.ticker as ticker"
   ]
  },
  {
   "cell_type": "code",
   "execution_count": 13,
   "metadata": {},
   "outputs": [
    {
     "data": {
      "text/plain": [
       "array([[  37.77643482, -122.42624402],\n",
       "       [  37.78487208, -122.40087569],\n",
       "       [  37.8703477 , -122.2677637 ],\n",
       "       [  37.7745204 , -122.40944937],\n",
       "       [  37.8688126 , -122.258764  ],\n",
       "       [  37.7787677 , -122.4159292 ],\n",
       "       [  37.7662102 , -122.4266136 ],\n",
       "       [  37.8703477 , -122.2677637 ],\n",
       "       [  37.78389936, -122.40844488],\n",
       "       [  37.8677892 , -122.2658964 ]])"
      ]
     },
     "execution_count": 13,
     "metadata": {},
     "output_type": "execute_result"
    }
   ],
   "source": [
    "a = np.array([[2., 3., 8.], [10., 4., 3.]])\n",
    "a = np.array([df5,df6]).T\n",
    "a"
   ]
  },
  {
   "cell_type": "code",
   "execution_count": 14,
   "metadata": {},
   "outputs": [],
   "source": [
    "import numpy as np\n",
    "from scipy.spatial.distance import cdist, euclidean\n",
    "\n",
    "def geometric_median(X, eps=1e-5):\n",
    "    y = np.mean(X, 0)\n",
    "\n",
    "    while True:\n",
    "        D = cdist(X, [y])\n",
    "        nonzeros = (D != 0)[:, 0]\n",
    "\n",
    "        Dinv = 1 / D[nonzeros]\n",
    "        Dinvs = np.sum(Dinv)\n",
    "        W = Dinv / Dinvs\n",
    "        T = np.sum(W * X[nonzeros], 0)\n",
    "\n",
    "        num_zeros = len(X) - np.sum(nonzeros)\n",
    "        if num_zeros == 0:\n",
    "            y1 = T\n",
    "        elif num_zeros == len(X):\n",
    "            return y\n",
    "        else:\n",
    "            R = (T - y) * Dinvs\n",
    "            r = np.linalg.norm(R)\n",
    "            rinv = 0 if r == 0 else num_zeros/r\n",
    "            y1 = max(0, 1-rinv)*T + min(1, rinv)*y\n",
    "\n",
    "        if euclidean(y, y1) < eps:\n",
    "            return y1\n",
    "\n",
    "        y = y1"
   ]
  },
  {
   "cell_type": "code",
   "execution_count": 15,
   "metadata": {},
   "outputs": [
    {
     "data": {
      "text/plain": [
       "array([  37.78486355, -122.40098134])"
      ]
     },
     "execution_count": 15,
     "metadata": {},
     "output_type": "execute_result"
    }
   ],
   "source": [
    "b = geometric_median(a)\n",
    "b"
   ]
  },
  {
   "cell_type": "code",
   "execution_count": 16,
   "metadata": {},
   "outputs": [
    {
     "name": "stdout",
     "output_type": "stream",
     "text": [
      "37.784863545206726\n"
     ]
    }
   ],
   "source": [
    "print(b[0])"
   ]
  },
  {
   "cell_type": "code",
   "execution_count": 17,
   "metadata": {},
   "outputs": [
    {
     "data": {
      "text/plain": [
       "Text(0,0.5,'Latitude')"
      ]
     },
     "execution_count": 17,
     "metadata": {},
     "output_type": "execute_result"
    },
    {
     "data": {
      "image/png": "[encoded data removed]",
      "text/plain": [
       "<matplotlib.figure.Figure at 0x7fb0d0989f60>"
      ]
     },
     "metadata": {},
     "output_type": "display_data"
    }
   ],
   "source": [
    "x = df1.start_station_longitude\n",
    "y = df1.start_station_latitude\n",
    "plt.plot(x,y,ls ='', marker='o',)\n",
    "plt.plot(df1.end_station_longitude,df1.end_station_latitude,ls ='', marker='o',\n",
    "        color = 'red')\n",
    "plt.plot(b[1],b[0],ls ='', marker = 'o', color ='brown')\n",
    "\n",
    "\n",
    "plt.xlabel(\"Longitude\") \n",
    "plt.ylabel(\"Latitude\")\n"
   ]
  },
  {
   "cell_type": "code",
   "execution_count": 18,
   "metadata": {},
   "outputs": [
    {
     "data": {
      "text/plain": [
       "[<matplotlib.lines.Line2D at 0x7fb0cda0aba8>]"
      ]
     },
     "execution_count": 18,
     "metadata": {},
     "output_type": "execute_result"
    },
    {
     "data": {
      "image/png": "[encoded data removed]",
      "text/plain": [
       "<matplotlib.figure.Figure at 0x7fb0cdd12668>"
      ]
     },
     "metadata": {},
     "output_type": "display_data"
    }
   ],
   "source": [
    "import matplotlib.pyplot as plt\n",
    "plt.plot(df1.end_station_longitude,df1.end_station_latitude, marker = 'o')"
   ]
  },
  {
   "cell_type": "code",
   "execution_count": null,
   "metadata": {},
   "outputs": [],
   "source": []
  },
  {
   "cell_type": "code",
   "execution_count": 19,
   "metadata": {},
   "outputs": [
    {
     "data": {
      "text/plain": [
       "[<matplotlib.lines.Line2D at 0x7fb0bdd4cda0>]"
      ]
     },
     "execution_count": 19,
     "metadata": {},
     "output_type": "execute_result"
    },
    {
     "data": {
      "image/png": "[encoded data removed]",
      "text/plain": [
       "<matplotlib.figure.Figure at 0x7fb0cda85c88>"
      ]
     },
     "metadata": {},
     "output_type": "display_data"
    }
   ],
   "source": [
    "plt.plot(b[0],b[1],ls ='', marker = 'o', color ='brown')"
   ]
  },
  {
   "cell_type": "code",
   "execution_count": 20,
   "metadata": {},
   "outputs": [
    {
     "data": {
      "text/plain": [
       "([<matplotlib.axis.YTick at 0x7fb0bdd1c5f8>,\n",
       "  <matplotlib.axis.YTick at 0x7fb0bdd5e2b0>,\n",
       "  <matplotlib.axis.YTick at 0x7fb0bdd168d0>,\n",
       "  <matplotlib.axis.YTick at 0x7fb0bdc3be48>,\n",
       "  <matplotlib.axis.YTick at 0x7fb0bdc4ab38>,\n",
       "  <matplotlib.axis.YTick at 0x7fb0bdc2ab00>,\n",
       "  <matplotlib.axis.YTick at 0x7fb0bdca34a8>,\n",
       "  <matplotlib.axis.YTick at 0x7fb0bdc96978>,\n",
       "  <matplotlib.axis.YTick at 0x7fb0bdc8a5c0>,\n",
       "  <matplotlib.axis.YTick at 0x7fb0bdc7ceb8>,\n",
       "  <matplotlib.axis.YTick at 0x7fb0bdc6deb8>,\n",
       "  <matplotlib.axis.YTick at 0x7fb0bdce8048>,\n",
       "  <matplotlib.axis.YTick at 0x7fb0bdcdb2e8>,\n",
       "  <matplotlib.axis.YTick at 0x7fb0bdccfcf8>,\n",
       "  <matplotlib.axis.YTick at 0x7fb0bdcc3d30>,\n",
       "  <matplotlib.axis.YTick at 0x7fb0bdcbe710>,\n",
       "  <matplotlib.axis.YTick at 0x7fb0bdc512e8>,\n",
       "  <matplotlib.axis.YTick at 0x7fb0bdc51b70>,\n",
       "  <matplotlib.axis.YTick at 0x7fb0bdbf5240>,\n",
       "  <matplotlib.axis.YTick at 0x7fb0bdbf58d0>,\n",
       "  <matplotlib.axis.YTick at 0x7fb0bdbf5f60>,\n",
       "  <matplotlib.axis.YTick at 0x7fb0bdbfc630>,\n",
       "  <matplotlib.axis.YTick at 0x7fb0bdbfccc0>,\n",
       "  <matplotlib.axis.YTick at 0x7fb0bdc42dd8>,\n",
       "  <matplotlib.axis.YTick at 0x7fb0bdc35c88>,\n",
       "  <matplotlib.axis.YTick at 0x7fb0bdc2ab38>,\n",
       "  <matplotlib.axis.YTick at 0x7fb0bdc9b9e8>,\n",
       "  <matplotlib.axis.YTick at 0x7fb0bdc8f898>,\n",
       "  <matplotlib.axis.YTick at 0x7fb0bdc84748>,\n",
       "  <matplotlib.axis.YTick at 0x7fb0bdc755f8>,\n",
       "  <matplotlib.axis.YTick at 0x7fb0bdce84a8>,\n",
       "  <matplotlib.axis.YTick at 0x7fb0bdcdb358>,\n",
       "  <matplotlib.axis.YTick at 0x7fb0bdccf208>,\n",
       "  <matplotlib.axis.YTick at 0x7fb0bdcc30b8>,\n",
       "  <matplotlib.axis.YTick at 0x7fb0cda4b4e0>,\n",
       "  <matplotlib.axis.YTick at 0x7fb0bdc01630>,\n",
       "  <matplotlib.axis.YTick at 0x7fb0bdc01cc0>,\n",
       "  <matplotlib.axis.YTick at 0x7fb0bdc0a390>,\n",
       "  <matplotlib.axis.YTick at 0x7fb0bdc0aa20>,\n",
       "  <matplotlib.axis.YTick at 0x7fb0bdc0e0f0>,\n",
       "  <matplotlib.axis.YTick at 0x7fb0bdc0e780>,\n",
       "  <matplotlib.axis.YTick at 0x7fb0bdc0ee10>,\n",
       "  <matplotlib.axis.YTick at 0x7fb0bdc134e0>,\n",
       "  <matplotlib.axis.YTick at 0x7fb0bdc13b70>,\n",
       "  <matplotlib.axis.YTick at 0x7fb0bdc17240>,\n",
       "  <matplotlib.axis.YTick at 0x7fb0bdc178d0>,\n",
       "  <matplotlib.axis.YTick at 0x7fb0bdc17f60>,\n",
       "  <matplotlib.axis.YTick at 0x7fb0bdc1e630>,\n",
       "  <matplotlib.axis.YTick at 0x7fb0bdc1ecc0>,\n",
       "  <matplotlib.axis.YTick at 0x7fb0bdc23390>,\n",
       "  <matplotlib.axis.YTick at 0x7fb0bdc23a20>,\n",
       "  <matplotlib.axis.YTick at 0x7fb0bdc290f0>,\n",
       "  <matplotlib.axis.YTick at 0x7fb0bdc29780>,\n",
       "  <matplotlib.axis.YTick at 0x7fb0bdc29e10>,\n",
       "  <matplotlib.axis.YTick at 0x7fb0bdbaf4e0>,\n",
       "  <matplotlib.axis.YTick at 0x7fb0bdbafb70>,\n",
       "  <matplotlib.axis.YTick at 0x7fb0bdbb5240>,\n",
       "  <matplotlib.axis.YTick at 0x7fb0bdbb58d0>,\n",
       "  <matplotlib.axis.YTick at 0x7fb0bdbb5f60>,\n",
       "  <matplotlib.axis.YTick at 0x7fb0bdbbc630>,\n",
       "  <matplotlib.axis.YTick at 0x7fb0bdbbccc0>,\n",
       "  <matplotlib.axis.YTick at 0x7fb0bdbc3390>,\n",
       "  <matplotlib.axis.YTick at 0x7fb0bdbc3a20>,\n",
       "  <matplotlib.axis.YTick at 0x7fb0bdbc90f0>,\n",
       "  <matplotlib.axis.YTick at 0x7fb0bdbc9780>,\n",
       "  <matplotlib.axis.YTick at 0x7fb0bdbc9e10>,\n",
       "  <matplotlib.axis.YTick at 0x7fb0bdbcf4e0>,\n",
       "  <matplotlib.axis.YTick at 0x7fb0bdbcfb70>,\n",
       "  <matplotlib.axis.YTick at 0x7fb0bdbd6240>,\n",
       "  <matplotlib.axis.YTick at 0x7fb0bdbd68d0>,\n",
       "  <matplotlib.axis.YTick at 0x7fb0bdbd6f60>,\n",
       "  <matplotlib.axis.YTick at 0x7fb0bdbdd630>,\n",
       "  <matplotlib.axis.YTick at 0x7fb0bdbddcc0>,\n",
       "  <matplotlib.axis.YTick at 0x7fb0bdbe3390>,\n",
       "  <matplotlib.axis.YTick at 0x7fb0bdbe3a20>,\n",
       "  <matplotlib.axis.YTick at 0x7fb0bdbe80f0>,\n",
       "  <matplotlib.axis.YTick at 0x7fb0bdbe8780>,\n",
       "  <matplotlib.axis.YTick at 0x7fb0bdbe8e10>,\n",
       "  <matplotlib.axis.YTick at 0x7fb0bdb6e4e0>,\n",
       "  <matplotlib.axis.YTick at 0x7fb0bdb6eb70>,\n",
       "  <matplotlib.axis.YTick at 0x7fb0bdb76240>,\n",
       "  <matplotlib.axis.YTick at 0x7fb0bdb768d0>,\n",
       "  <matplotlib.axis.YTick at 0x7fb0bdb76f60>,\n",
       "  <matplotlib.axis.YTick at 0x7fb0bdb7c630>,\n",
       "  <matplotlib.axis.YTick at 0x7fb0bdb7ccc0>,\n",
       "  <matplotlib.axis.YTick at 0x7fb0bdb83390>,\n",
       "  <matplotlib.axis.YTick at 0x7fb0bdb83a20>,\n",
       "  <matplotlib.axis.YTick at 0x7fb0bdb8a0f0>,\n",
       "  <matplotlib.axis.YTick at 0x7fb0bdb8a780>,\n",
       "  <matplotlib.axis.YTick at 0x7fb0bdb8ae10>,\n",
       "  <matplotlib.axis.YTick at 0x7fb0bdb8f4e0>,\n",
       "  <matplotlib.axis.YTick at 0x7fb0bdb8fb70>,\n",
       "  <matplotlib.axis.YTick at 0x7fb0bdb96240>,\n",
       "  <matplotlib.axis.YTick at 0x7fb0bdb968d0>,\n",
       "  <matplotlib.axis.YTick at 0x7fb0bdb96f60>,\n",
       "  <matplotlib.axis.YTick at 0x7fb0bdb9e630>,\n",
       "  <matplotlib.axis.YTick at 0x7fb0bdb9ecc0>,\n",
       "  <matplotlib.axis.YTick at 0x7fb0bdba3390>,\n",
       "  <matplotlib.axis.YTick at 0x7fb0bdba3a20>,\n",
       "  <matplotlib.axis.YTick at 0x7fb0bdba90f0>,\n",
       "  <matplotlib.axis.YTick at 0x7fb0bdba9780>,\n",
       "  <matplotlib.axis.YTick at 0x7fb0bdba9e10>,\n",
       "  <matplotlib.axis.YTick at 0x7fb0bdb2e4e0>,\n",
       "  <matplotlib.axis.YTick at 0x7fb0bdb2eb70>,\n",
       "  <matplotlib.axis.YTick at 0x7fb0bdb36240>,\n",
       "  <matplotlib.axis.YTick at 0x7fb0bdb368d0>,\n",
       "  <matplotlib.axis.YTick at 0x7fb0bdb36f60>,\n",
       "  <matplotlib.axis.YTick at 0x7fb0bdb3d630>,\n",
       "  <matplotlib.axis.YTick at 0x7fb0bdb3dcc0>,\n",
       "  <matplotlib.axis.YTick at 0x7fb0bdb43390>,\n",
       "  <matplotlib.axis.YTick at 0x7fb0bdb43a20>,\n",
       "  <matplotlib.axis.YTick at 0x7fb0bdb4b0f0>,\n",
       "  <matplotlib.axis.YTick at 0x7fb0bdb4b780>,\n",
       "  <matplotlib.axis.YTick at 0x7fb0bdb4be10>,\n",
       "  <matplotlib.axis.YTick at 0x7fb0bdb504e0>,\n",
       "  <matplotlib.axis.YTick at 0x7fb0bdb50b70>,\n",
       "  <matplotlib.axis.YTick at 0x7fb0bdb57240>],\n",
       " <a list of 117 Text yticklabel objects>)"
      ]
     },
     "execution_count": 20,
     "metadata": {},
     "output_type": "execute_result"
    },
    {
     "data": {
      "image/png": "[encoded data removed]",
      "text/plain": [
       "<matplotlib.figure.Figure at 0x7fb0bdd645f8>"
      ]
     },
     "metadata": {},
     "output_type": "display_data"
    }
   ],
   "source": [
    "plt.xticks(np.arange(min(x), max(x)+1, 0.02))\n",
    "plt.yticks(np.arange(min(x), max(x)+1, 0.01))"
   ]
  },
  {
   "cell_type": "code",
   "execution_count": 21,
   "metadata": {},
   "outputs": [
    {
     "data": {
      "text/html": [
       "<div>\n",
       "<style scoped>\n",
       "    .dataframe tbody tr th:only-of-type {\n",
       "        vertical-align: middle;\n",
       "    }\n",
       "\n",
       "    .dataframe tbody tr th {\n",
       "        vertical-align: top;\n",
       "    }\n",
       "\n",
       "    .dataframe thead th {\n",
       "        text-align: right;\n",
       "    }\n",
       "</style>\n",
       "<table border=\"1\" class=\"dataframe\">\n",
       "  <thead>\n",
       "    <tr style=\"text-align: right;\">\n",
       "      <th></th>\n",
       "      <th>duration_sec</th>\n",
       "      <th>start_time</th>\n",
       "      <th>end_time</th>\n",
       "      <th>start_station_id</th>\n",
       "      <th>start_station_name</th>\n",
       "      <th>start_station_latitude</th>\n",
       "      <th>start_station_longitude</th>\n",
       "      <th>end_station_id</th>\n",
       "      <th>end_station_name</th>\n",
       "      <th>end_station_latitude</th>\n",
       "      <th>end_station_longitude</th>\n",
       "      <th>bike_id</th>\n",
       "      <th>user_type</th>\n",
       "      <th>member_birth_year</th>\n",
       "      <th>member_gender</th>\n",
       "    </tr>\n",
       "  </thead>\n",
       "  <tbody>\n",
       "    <tr>\n",
       "      <th>0</th>\n",
       "      <td>80110</td>\n",
       "      <td>2017-12-31 16:57:39.6540</td>\n",
       "      <td>2018-01-01 15:12:50.2450</td>\n",
       "      <td>74</td>\n",
       "      <td>Laguna St at Hayes St</td>\n",
       "      <td>37.776435</td>\n",
       "      <td>-122.426244</td>\n",
       "      <td>43</td>\n",
       "      <td>San Francisco Public Library (Grove St at Hyde...</td>\n",
       "      <td>37.778768</td>\n",
       "      <td>-122.415929</td>\n",
       "      <td>96</td>\n",
       "      <td>Customer</td>\n",
       "      <td>1987.0</td>\n",
       "      <td>Male</td>\n",
       "    </tr>\n",
       "  </tbody>\n",
       "</table>\n",
       "</div>"
      ],
      "text/plain": [
       "   duration_sec                start_time                  end_time  \\\n",
       "0         80110  2017-12-31 16:57:39.6540  2018-01-01 15:12:50.2450   \n",
       "\n",
       "   start_station_id     start_station_name  start_station_latitude  \\\n",
       "0                74  Laguna St at Hayes St               37.776435   \n",
       "\n",
       "   start_station_longitude  end_station_id  \\\n",
       "0              -122.426244              43   \n",
       "\n",
       "                                    end_station_name  end_station_latitude  \\\n",
       "0  San Francisco Public Library (Grove St at Hyde...             37.778768   \n",
       "\n",
       "   end_station_longitude  bike_id user_type  member_birth_year member_gender  \n",
       "0            -122.415929       96  Customer             1987.0          Male  "
      ]
     },
     "execution_count": 21,
     "metadata": {},
     "output_type": "execute_result"
    }
   ],
   "source": [
    "df.head(1)"
   ]
  },
  {
   "cell_type": "code",
   "execution_count": 22,
   "metadata": {},
   "outputs": [
    {
     "data": {
      "text/plain": [
       "array([2, 0, 1, 0, 1, 0, 2, 1, 0, 1], dtype=int32)"
      ]
     },
     "execution_count": 22,
     "metadata": {},
     "output_type": "execute_result"
    }
   ],
   "source": [
    "from sklearn.cluster import KMeans\n",
    "a = np.array([df5,df6]).T\n",
    "kmeans = KMeans(n_clusters=3, random_state=0, tol = 0.001).fit(a)\n",
    "kmeans.labels_"
   ]
  },
  {
   "cell_type": "code",
   "execution_count": 23,
   "metadata": {},
   "outputs": [],
   "source": [
    "#for i in range(0, kmeans.shape[0]):"
   ]
  },
  {
   "cell_type": "code",
   "execution_count": 24,
   "metadata": {},
   "outputs": [
    {
     "data": {
      "text/plain": [
       "array([[  37.78051489, -122.40867478],\n",
       "       [  37.8693243 , -122.26504695],\n",
       "       [  37.77132251, -122.42642881]])"
      ]
     },
     "execution_count": 24,
     "metadata": {},
     "output_type": "execute_result"
    }
   ],
   "source": [
    "centers = kmeans.cluster_centers_ \n",
    "centers"
   ]
  },
  {
   "cell_type": "code",
   "execution_count": 25,
   "metadata": {},
   "outputs": [
    {
     "data": {
      "image/png": "[encoded data removed]",
      "text/plain": [
       "<matplotlib.figure.Figure at 0x7fb0bdbd65c0>"
      ]
     },
     "metadata": {},
     "output_type": "display_data"
    }
   ],
   "source": [
    "plt.scatter(centers[:, 0], centers[:, 1], c='black', alpha=0.5);"
   ]
  },
  {
   "cell_type": "code",
   "execution_count": 26,
   "metadata": {},
   "outputs": [
    {
     "ename": "TypeError",
     "evalue": "inner() got multiple values for argument 'ax'",
     "output_type": "error",
     "traceback": [
      "\u001b[0;31m---------------------------------------------------------------------------\u001b[0m",
      "\u001b[0;31mTypeError\u001b[0m                                 Traceback (most recent call last)",
      "\u001b[0;32m<ipython-input-26-5893ea73b297>\u001b[0m in \u001b[0;36m<module>\u001b[0;34m()\u001b[0m\n\u001b[1;32m      1\u001b[0m \u001b[0mplt\u001b[0m\u001b[0;34m.\u001b[0m\u001b[0mfigure\u001b[0m\u001b[0;34m(\u001b[0m\u001b[0mfigsize\u001b[0m\u001b[0;34m=\u001b[0m\u001b[0;34m(\u001b[0m\u001b[0;36m6\u001b[0m\u001b[0;34m,\u001b[0m \u001b[0;36m4\u001b[0m\u001b[0;34m)\u001b[0m\u001b[0;34m)\u001b[0m\u001b[0;34m\u001b[0m\u001b[0m\n\u001b[1;32m      2\u001b[0m \u001b[0max\u001b[0m \u001b[0;34m=\u001b[0m \u001b[0mplt\u001b[0m\u001b[0;34m.\u001b[0m\u001b[0mscatter\u001b[0m\u001b[0;34m(\u001b[0m\u001b[0ma\u001b[0m\u001b[0;34m[\u001b[0m\u001b[0;34m:\u001b[0m\u001b[0;34m,\u001b[0m\u001b[0;36m1\u001b[0m\u001b[0;34m]\u001b[0m\u001b[0;34m,\u001b[0m \u001b[0ma\u001b[0m\u001b[0;34m[\u001b[0m\u001b[0;34m:\u001b[0m\u001b[0;34m,\u001b[0m\u001b[0;36m0\u001b[0m\u001b[0;34m]\u001b[0m\u001b[0;34m,\u001b[0m \u001b[0mc\u001b[0m\u001b[0;34m=\u001b[0m\u001b[0mkmeans\u001b[0m\u001b[0;34m.\u001b[0m\u001b[0mlabels_\u001b[0m\u001b[0;34m.\u001b[0m\u001b[0mastype\u001b[0m\u001b[0;34m(\u001b[0m\u001b[0mfloat\u001b[0m\u001b[0;34m)\u001b[0m\u001b[0;34m)\u001b[0m\u001b[0;34m\u001b[0m\u001b[0m\n\u001b[0;32m----> 3\u001b[0;31m \u001b[0mplt\u001b[0m\u001b[0;34m.\u001b[0m\u001b[0mscatter\u001b[0m\u001b[0;34m(\u001b[0m\u001b[0mcenters\u001b[0m\u001b[0;34m[\u001b[0m\u001b[0;34m:\u001b[0m\u001b[0;34m,\u001b[0m \u001b[0;36m0\u001b[0m\u001b[0;34m]\u001b[0m\u001b[0;34m,\u001b[0m \u001b[0mcenters\u001b[0m\u001b[0;34m[\u001b[0m\u001b[0;34m:\u001b[0m\u001b[0;34m,\u001b[0m \u001b[0;36m1\u001b[0m\u001b[0;34m]\u001b[0m\u001b[0;34m,\u001b[0m \u001b[0mc\u001b[0m\u001b[0;34m=\u001b[0m\u001b[0;34m'black'\u001b[0m\u001b[0;34m,\u001b[0m \u001b[0malpha\u001b[0m\u001b[0;34m=\u001b[0m\u001b[0;36m0.5\u001b[0m\u001b[0;34m,\u001b[0m \u001b[0max\u001b[0m \u001b[0;34m=\u001b[0m \u001b[0max\u001b[0m\u001b[0;34m)\u001b[0m\u001b[0;34m;\u001b[0m\u001b[0;34m\u001b[0m\u001b[0m\n\u001b[0m\u001b[1;32m      4\u001b[0m \u001b[0mplt\u001b[0m\u001b[0;34m.\u001b[0m\u001b[0mtitle\u001b[0m\u001b[0;34m(\u001b[0m\u001b[0;34m\"K=3 Cluster\"\u001b[0m\u001b[0;34m)\u001b[0m\u001b[0;34m\u001b[0m\u001b[0m\n\u001b[1;32m      5\u001b[0m \u001b[0mplt\u001b[0m\u001b[0;34m.\u001b[0m\u001b[0mxlabel\u001b[0m\u001b[0;34m(\u001b[0m\u001b[0;34m\"Height(cm)\"\u001b[0m\u001b[0;34m)\u001b[0m\u001b[0;34m\u001b[0m\u001b[0m\n",
      "\u001b[0;32m~/anaconda3/lib/python3.6/site-packages/matplotlib/pyplot.py\u001b[0m in \u001b[0;36mscatter\u001b[0;34m(x, y, s, c, marker, cmap, norm, vmin, vmax, alpha, linewidths, verts, edgecolors, hold, data, **kwargs)\u001b[0m\n\u001b[1;32m   3376\u001b[0m                          \u001b[0mvmin\u001b[0m\u001b[0;34m=\u001b[0m\u001b[0mvmin\u001b[0m\u001b[0;34m,\u001b[0m \u001b[0mvmax\u001b[0m\u001b[0;34m=\u001b[0m\u001b[0mvmax\u001b[0m\u001b[0;34m,\u001b[0m \u001b[0malpha\u001b[0m\u001b[0;34m=\u001b[0m\u001b[0malpha\u001b[0m\u001b[0;34m,\u001b[0m\u001b[0;34m\u001b[0m\u001b[0m\n\u001b[1;32m   3377\u001b[0m                          \u001b[0mlinewidths\u001b[0m\u001b[0;34m=\u001b[0m\u001b[0mlinewidths\u001b[0m\u001b[0;34m,\u001b[0m \u001b[0mverts\u001b[0m\u001b[0;34m=\u001b[0m\u001b[0mverts\u001b[0m\u001b[0;34m,\u001b[0m\u001b[0;34m\u001b[0m\u001b[0m\n\u001b[0;32m-> 3378\u001b[0;31m                          edgecolors=edgecolors, data=data, **kwargs)\n\u001b[0m\u001b[1;32m   3379\u001b[0m     \u001b[0;32mfinally\u001b[0m\u001b[0;34m:\u001b[0m\u001b[0;34m\u001b[0m\u001b[0m\n\u001b[1;32m   3380\u001b[0m         \u001b[0max\u001b[0m\u001b[0;34m.\u001b[0m\u001b[0m_hold\u001b[0m \u001b[0;34m=\u001b[0m \u001b[0mwashold\u001b[0m\u001b[0;34m\u001b[0m\u001b[0m\n",
      "\u001b[0;31mTypeError\u001b[0m: inner() got multiple values for argument 'ax'"
     ]
    },
    {
     "data": {
      "image/png": "[encoded data removed]",
      "text/plain": [
       "<matplotlib.figure.Figure at 0x7fb0bdb43f60>"
      ]
     },
     "metadata": {},
     "output_type": "display_data"
    }
   ],
   "source": [
    "plt.figure(figsize=(6, 4))\n",
    "ax = plt.scatter(a[:,1], a[:,0], c=kmeans.labels_.astype(float))\n",
    "plt.scatter(centers[:, 0], centers[:, 1], c='black', alpha=0.5, ax = ax);\n",
    "plt.title(\"K=3 Cluster\")\n",
    "plt.xlabel(\"Height(cm)\")\n",
    "plt.ylabel(\"Weight(kg's)\")\n",
    "plt.show()"
   ]
  },
  {
   "cell_type": "code",
   "execution_count": 28,
   "metadata": {},
   "outputs": [
    {
     "name": "stdout",
     "output_type": "stream",
     "text": [
      "<class 'pandas.core.frame.DataFrame'>\n",
      "RangeIndex: 5 entries, 0 to 4\n",
      "Data columns (total 4 columns):\n",
      "start_station_latitude     5 non-null float64\n",
      "start_station_longitude    5 non-null float64\n",
      "end_station_latitude       5 non-null float64\n",
      "end_station_longitude      5 non-null float64\n",
      "dtypes: float64(4)\n",
      "memory usage: 240.0 bytes\n"
     ]
    }
   ],
   "source": [
    "q = df1.info()\n"
   ]
  },
  {
   "cell_type": "code",
   "execution_count": null,
   "metadata": {},
   "outputs": [],
   "source": [
    "import numpy as np\n",
    "import matplotlib.pyplot as plt\n",
    "from scipy.cluster.vq import kmeans2, whiten\n",
    "\n",
    "coordinates= np.array([\n",
    "               [lat, long],\n",
    "               [lat, long],\n",
    "                ...\n",
    "               [lat, long]\n",
    "               ])\n",
    "    x, y = kmeans2(whiten(coordinates), 3, iter = 20)  \n",
    "    plt.scatter(coordinates[:,0], coordinates[:,1], c=y);\n",
    "    plt.show()"
   ]
  },
  {
   "cell_type": "code",
   "execution_count": 46,
   "metadata": {},
   "outputs": [
    {
     "data": {
      "text/html": [
       "<div>\n",
       "<style scoped>\n",
       "    .dataframe tbody tr th:only-of-type {\n",
       "        vertical-align: middle;\n",
       "    }\n",
       "\n",
       "    .dataframe tbody tr th {\n",
       "        vertical-align: top;\n",
       "    }\n",
       "\n",
       "    .dataframe thead th {\n",
       "        text-align: right;\n",
       "    }\n",
       "</style>\n",
       "<table border=\"1\" class=\"dataframe\">\n",
       "  <thead>\n",
       "    <tr style=\"text-align: right;\">\n",
       "      <th></th>\n",
       "      <th>ID</th>\n",
       "      <th>lat</th>\n",
       "      <th>lng</th>\n",
       "    </tr>\n",
       "  </thead>\n",
       "  <tbody>\n",
       "    <tr>\n",
       "      <th>0</th>\n",
       "      <td>0</td>\n",
       "      <td>37.776435</td>\n",
       "      <td>-122.426244</td>\n",
       "    </tr>\n",
       "    <tr>\n",
       "      <th>1</th>\n",
       "      <td>1</td>\n",
       "      <td>37.784872</td>\n",
       "      <td>-122.400876</td>\n",
       "    </tr>\n",
       "    <tr>\n",
       "      <th>2</th>\n",
       "      <td>2</td>\n",
       "      <td>37.870348</td>\n",
       "      <td>-122.267764</td>\n",
       "    </tr>\n",
       "    <tr>\n",
       "      <th>3</th>\n",
       "      <td>3</td>\n",
       "      <td>37.774520</td>\n",
       "      <td>-122.409449</td>\n",
       "    </tr>\n",
       "    <tr>\n",
       "      <th>4</th>\n",
       "      <td>4</td>\n",
       "      <td>37.868813</td>\n",
       "      <td>-122.258764</td>\n",
       "    </tr>\n",
       "  </tbody>\n",
       "</table>\n",
       "</div>"
      ],
      "text/plain": [
       "   ID        lat         lng\n",
       "0   0  37.776435 -122.426244\n",
       "1   1  37.784872 -122.400876\n",
       "2   2  37.870348 -122.267764\n",
       "3   3  37.774520 -122.409449\n",
       "4   4  37.868813 -122.258764"
      ]
     },
     "execution_count": 46,
     "metadata": {},
     "output_type": "execute_result"
    }
   ],
   "source": [
    "df4.head()"
   ]
  },
  {
   "cell_type": "code",
   "execution_count": 60,
   "metadata": {},
   "outputs": [],
   "source": [
    "df_1 = df['start_station_name']\n",
    "df_1  = df_1.head(10)"
   ]
  },
  {
   "cell_type": "code",
   "execution_count": 62,
   "metadata": {},
   "outputs": [
    {
     "data": {
      "text/html": [
       "<div>\n",
       "<style scoped>\n",
       "    .dataframe tbody tr th:only-of-type {\n",
       "        vertical-align: middle;\n",
       "    }\n",
       "\n",
       "    .dataframe tbody tr th {\n",
       "        vertical-align: top;\n",
       "    }\n",
       "\n",
       "    .dataframe thead th {\n",
       "        text-align: right;\n",
       "    }\n",
       "</style>\n",
       "<table border=\"1\" class=\"dataframe\">\n",
       "  <thead>\n",
       "    <tr style=\"text-align: right;\">\n",
       "      <th></th>\n",
       "      <th>start_station_name</th>\n",
       "    </tr>\n",
       "  </thead>\n",
       "  <tbody>\n",
       "    <tr>\n",
       "      <th>0</th>\n",
       "      <td>Laguna St at Hayes St</td>\n",
       "    </tr>\n",
       "    <tr>\n",
       "      <th>1</th>\n",
       "      <td>Yerba Buena Center for the Arts (Howard St at ...</td>\n",
       "    </tr>\n",
       "    <tr>\n",
       "      <th>2</th>\n",
       "      <td>Downtown Berkeley BART</td>\n",
       "    </tr>\n",
       "    <tr>\n",
       "      <th>3</th>\n",
       "      <td>8th St at Ringold St</td>\n",
       "    </tr>\n",
       "    <tr>\n",
       "      <th>4</th>\n",
       "      <td>Bancroft Way at Telegraph Ave</td>\n",
       "    </tr>\n",
       "  </tbody>\n",
       "</table>\n",
       "</div>"
      ],
      "text/plain": [
       "                                  start_station_name\n",
       "0                              Laguna St at Hayes St\n",
       "1  Yerba Buena Center for the Arts (Howard St at ...\n",
       "2                             Downtown Berkeley BART\n",
       "3                               8th St at Ringold St\n",
       "4                      Bancroft Way at Telegraph Ave"
      ]
     },
     "execution_count": 62,
     "metadata": {},
     "output_type": "execute_result"
    }
   ],
   "source": [
    "df_1 = pd.Series.to_frame(df_1)\n",
    "df_1.head()"
   ]
  },
  {
   "cell_type": "code",
   "execution_count": 63,
   "metadata": {},
   "outputs": [],
   "source": [
    "df_2 = pd.concat([df_1, df4], axis = 1)"
   ]
  },
  {
   "cell_type": "code",
   "execution_count": 68,
   "metadata": {},
   "outputs": [],
   "source": [
    "df_2 = df_2.drop(\"ID\", axis= 1)\n"
   ]
  },
  {
   "cell_type": "code",
   "execution_count": 69,
   "metadata": {},
   "outputs": [],
   "source": [
    "df_2.reset_index(inplace = True)"
   ]
  },
  {
   "cell_type": "code",
   "execution_count": 71,
   "metadata": {},
   "outputs": [
    {
     "data": {
      "text/plain": [
       "[37.8703477, -122.26776370000002]"
      ]
     },
     "execution_count": 71,
     "metadata": {},
     "output_type": "execute_result"
    }
   ],
   "source": [
    "locations = df_2[['lat', 'lng']]\n",
    "locationlist = locations.values.tolist()\n",
    "len(locationlist)\n",
    "locationlist[7]"
   ]
  },
  {
   "cell_type": "code",
   "execution_count": 79,
   "metadata": {},
   "outputs": [
    {
     "data": {
      "text/html": [
       "<div style=\"width:100%;\"><div style=\"position:relative;width:100%;height:0;padding-bottom:60%;\"><iframe src=\"data:text/html;charset=utf-8;base64,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\" style=\"position:absolute;width:100%;height:100%;left:0;top:0;border:none !important;\" allowfullscreen webkitallowfullscreen mozallowfullscreen></iframe></div></div>"
      ],
      "text/plain": [
       "<folium.folium.Map at 0x7fd5b9a98320>"
      ]
     },
     "execution_count": 79,
     "metadata": {},
     "output_type": "execute_result"
    }
   ],
   "source": [
    "map_osm = folium.Map(location=[38.9072, -77.0369],tiles='Stamen Toner',\n",
    "           zoom_start=13)\n",
    "for point in range(0, len(locationlist)):\n",
    "    folium.Marker(locationlist[point], popup=df_2['start_station_name'][point]).add_to(map_osm)\n",
    "map_osm"
   ]
  },
  {
   "cell_type": "code",
   "execution_count": 2,
   "metadata": {},
   "outputs": [
    {
     "ename": "ModuleNotFoundError",
     "evalue": "No module named 'haversine'",
     "output_type": "error",
     "traceback": [
      "\u001b[0;31m---------------------------------------------------------------------------\u001b[0m",
      "\u001b[0;31mModuleNotFoundError\u001b[0m                       Traceback (most recent call last)",
      "\u001b[0;32m<ipython-input-2-715790329ff6>\u001b[0m in \u001b[0;36m<module>\u001b[0;34m()\u001b[0m\n\u001b[1;32m      3\u001b[0m \u001b[0;32mimport\u001b[0m \u001b[0mrandom\u001b[0m\u001b[0;34m\u001b[0m\u001b[0m\n\u001b[1;32m      4\u001b[0m \u001b[0;32mimport\u001b[0m \u001b[0mmatplotlib\u001b[0m\u001b[0;34m.\u001b[0m\u001b[0mcm\u001b[0m \u001b[0;32mas\u001b[0m \u001b[0mcm\u001b[0m\u001b[0;34m\u001b[0m\u001b[0m\n\u001b[0;32m----> 5\u001b[0;31m \u001b[0;32mfrom\u001b[0m \u001b[0mhaversine\u001b[0m \u001b[0;32mimport\u001b[0m \u001b[0mhaversine\u001b[0m\u001b[0;34m\u001b[0m\u001b[0m\n\u001b[0m\u001b[1;32m      6\u001b[0m \u001b[0;32mimport\u001b[0m \u001b[0mmath\u001b[0m\u001b[0;34m\u001b[0m\u001b[0m\n\u001b[1;32m      7\u001b[0m \u001b[0;34m\u001b[0m\u001b[0m\n",
      "\u001b[0;31mModuleNotFoundError\u001b[0m: No module named 'haversine'"
     ]
    }
   ],
   "source": [
    "import numpy as np\n",
    "from matplotlib import pyplot\n",
    "import random\n",
    "import matplotlib.cm as cm\n",
    "from haversine import haversine\n",
    "import math\n",
    "\n",
    "def show_kmeans(points, centers=None):\n",
    "\t#http://stackoverflow.com/questions/9401658/matplotlib-animating-a-scatter-plot\n",
    "\txs=[]\n",
    "\tys=[]\n",
    "\tc=[]\n",
    "\twts=[]\n",
    "\tm=[]\n",
    "\tcolors = list(iter(cm.rainbow(np.linspace(0, 1, len(centers)))))\n",
    "\tfor p in points:\n",
    "\t\txs.append(p['coords'][0])\n",
    "\t\tys.append(p['coords'][1])\n",
    "\t\tc.append(colors[p['c']])\n",
    "\t\t#wts.append(40+p['w'])\n",
    "\t\twts.append(3)\n",
    "\t\tm.append('o')\n",
    "\n",
    "\tif centers:\n",
    "        \n",
    "\t\tfor i,cl in enumerate(centers):\n",
    "\t\t\txs.append(cl['coords'][0])\n",
    "\t\t\tys.append(cl['coords'][1])\n",
    "\t\t\tc.append('yellow')\n",
    "\t\t\twts.append(500)\n",
    "\t\t\tm.append('*')\n",
    "\n",
    "\tfor _s, _c, _x, _y,_sz in zip(m, c, xs, ys,wts):\n",
    "\t\tpyplot.scatter(_x, _y, marker=_s, c=_c,s=_sz, lw = 0)\n",
    "\n",
    "\tpyplot.show()\n",
    "\n",
    "def distance(lat1,long1,lat2,long2):\n",
    "\treturn haversine((lat1,long1), (lat2,long2), miles=True)\n",
    "\n",
    "def data_weighted_kmeans(points,centers,k,it_max=100):\n",
    "\t'''\n",
    "\t\tImplements weighted k-means where individual data points are weighted\n",
    "\t\tCode was ported from matlab code:\n",
    "\t\t\thttp://people.sc.fsu.edu/~jburkardt/m_src/kmeans/kmeans.html\n",
    "\t\t\tspecifically http://people.sc.fsu.edu/~jburkardt/m_src/kmeans/kmeans_w_03.m\n",
    "\t\tA natural extension of the K-Means problem allows us to include some more information, namely, \n",
    "\t\ta set of weights associated with the data points. These might represent a measure of importance, \n",
    "\t\ta frequency count, or some other information. The intent is that a point with a weight of 5.0 is \n",
    "\t\ttwice as \"important\" as a point with a weight of 2.5, for instance. This gives rise to the \n",
    "\t\t\"weighted\" K-Means problem.\n",
    "\t\tIn the weighted K-Means problem, we are given a set of N points X(I) in M-dimensions, and a \n",
    "\t\tcorresponding set of nonnegative weights W(I). The goal is to arrange the points into K clusters, \n",
    "\t\twith each cluster having a representative point Z(J), usually chosen as the weighted centroid of \n",
    "\t\tthe points in the cluster:\n",
    "\t\tZ(J) = Sum ( all X(I) in cluster J ) W(I) * X(I) / Sum ( all X(I) in cluster J ) W(I).\n",
    "\t\n",
    "\t\tThe weighted energy of cluster J is\n",
    "\t\t\tE(J) = Sum ( all X(I) in cluster J ) W(I) * || X(I) - Z(J) ||^2\n",
    "\t\tInputs:\n",
    "\t\tpoints: list of dictionaries\n",
    "\t\t\twith keys: \n",
    "\t\t\t\tcoords: np.array of real/integer values\n",
    "\t\t\t\tw: positive real\n",
    "\t\tcenters: list of dictionaries\n",
    "\t\t\twith keys: \n",
    "\t\t\t\tcoords: np.array of real/integer values\n",
    "\t\tk: number of clusters\n",
    "\t\tit_max: max number of iterations\n",
    "\t'''\n",
    "\t# number of dimensions\n",
    "\td = len(points[0]['coords'])\n",
    "\n",
    "\tfor c in centers:\n",
    "\t\tc['n'] = 0\n",
    "\t\tc['w'] = 0\n",
    "\n",
    "\t#Assign each observation to the nearest cluster center.\n",
    "\tfor p in points:\n",
    "\t\tdistances=[]\n",
    "\t\tfor c in centers:\n",
    "\t\t\tdistances.append(sum((p[\"coords\"]-c[\"coords\"])**2))\n",
    "\t\tidx = np.argmin(distances)\n",
    "\t\tp['c'] = idx\n",
    "\t\tcenters[idx][\"n\"]+=1\n",
    "\t\tcenters[idx][\"w\"]+=p['w']\n",
    "\n",
    "\tfor j,c in enumerate(centers):\n",
    "\t\tc[\"coords\"] = np.zeros(d)\n",
    "\n",
    "\t#Average the points in each cluster to get a new cluster center.\n",
    "\tfor p in points:\n",
    "\t\tcenters[p['c']][\"coords\"] += p[\"coords\"] * p['w']\n",
    "\tfor c in centers:\n",
    "\t\tc[\"coords\"] /= c['w']\n",
    "\n",
    "\tit_num = 0\n",
    "\tdistsq = np.zeros(k)\n",
    "\twhile ( it_num < it_max ):\n",
    "\t\tit_num +=1\n",
    "\t\t#print it_num\n",
    "\t\tswap = 0\n",
    "\t\tfor i,p in enumerate(points):\n",
    "\t\t\tci=p['c']\n",
    "\t\t\t\n",
    "\t\t\tif centers[ci]['n'] <= 1:\n",
    "\t\t\t\tcontinue\n",
    "\n",
    "\t\t\tfor cj,c in enumerate(centers):\n",
    "\t\t\t\tlat1=p[\"coords\"][1]\n",
    "\t\t\t\tlong1=p[\"coords\"][0]\n",
    "\t\t\t\tlat2=c[\"coords\"][1]\n",
    "\t\t\t\tlong2=c[\"coords\"][0]\n",
    "\t\t\t\tif ci==cj:\n",
    "\t\t\t\t\tdistsq[cj]= ( (distance(lat1,long1,lat2,long2)**2) * c['w'] ) / ( c['w'] - p['w'] )\n",
    "\t\t\t\telif centers[cj]['n']==0:\n",
    "\t\t\t\t\tcenters[cj][\"coords\"] = np.copy(p[\"coords\"])\n",
    "\t\t\t\t\tdistsq[cj]=0 \n",
    "\t\t\t\telse:\n",
    "\t\t\t\t\tdistsq[cj]= ( (distance(lat1,long1,lat2,long2)**2) * c['w'] ) / ( c['w'] + p['w'] )\n",
    "\n",
    "\t\t\t# Find the index of the minimum value of DISTSQ.\n",
    "\t\t\tnearest_cluster = np.argmin(distsq)\n",
    "\n",
    "\t\t\t# If that is not the cluster to which point I now belongs, move it there.\n",
    "\t\t\tif nearest_cluster == ci:\n",
    "\t\t\t\tcontinue\n",
    "\n",
    "\t\t\tcj = nearest_cluster\n",
    "\t\t\tcenters[ci][\"coords\"] = ( centers[ci]['w'] * centers[ci][\"coords\"] - p['w'] * p[\"coords\"] ) / ( centers[ci]['w'] - p['w'] )\n",
    "\t\t\tcenters[cj][\"coords\"] = ( centers[cj]['w'] * centers[cj][\"coords\"] + p['w'] * p[\"coords\"] ) / ( centers[cj]['w'] + p['w'] )\n",
    "\t\t\tcenters[ci]['n'] -= 1\n",
    "\t\t\tcenters[cj]['n'] += 1\n",
    "\t\t\tcenters[ci]['w'] -= p['w']\n",
    "\t\t\tcenters[cj]['w'] += p['w']\n",
    "\n",
    "\t\t\t# assign the point its new home\n",
    "\t\t\tp['c'] = cj\n",
    "\n",
    "\t\t\tswap += 1\n",
    "\t\t# Exit if no reassignments were made during this iteration.\n",
    "\t\tif swap==0: \n",
    "\t\t\tbreak\n",
    "\treturn [points,centers,it_num]\n",
    "\n",
    "def randomize_initial_cluster(points,k,seed=None):\n",
    "\t'''\n",
    "\t\trandomly select k starting points\n",
    "\t'''\n",
    "\tif seed:\n",
    "\t\trandom.seed( seed )\n",
    "\tindices=range(0,len(points))\n",
    "\trandom.shuffle(indices)\n",
    "\tcenters=[]\n",
    "\tfor i in indices[:k]:\n",
    "\t\tcenters.append({\"coords\":np.copy(points[i]['coords'])})\n",
    "\treturn centers\n",
    "\n",
    "def equally_spaced_initial_clusters(points,k):\n",
    "\t'''\n",
    "\tset them equally spaced across x\n",
    "\t'''\n",
    "\txs=[]\n",
    "\tys=[]\n",
    "\tfor p in points:\n",
    "\t\txs.append(p['coords'][0])\n",
    "\t\tys.append(p['coords'][1])\n",
    "\txs=np.array(xs)\n",
    "\tmeany = np.mean(np.array(ys))\n",
    "\tminx=np.min(xs)\n",
    "\tmaxx=np.max(xs)\n",
    "\tif k==1:\n",
    "\t\treturn [{\"coords\":np.array([np.mean(np.array(xs)), meany])}] \n",
    "\tstep = (maxx-minx) / (k-1)\n",
    "\tcenters=[]\n",
    "\t[centers.append({\"coords\":np.array([minx + i * step, meany])}) for i in range(k)]\n",
    "return centers"
   ]
  },
  {
   "cell_type": "code",
   "execution_count": null,
   "metadata": {},
   "outputs": [],
   "source": []
  }
 ],
 "metadata": {
  "kernelspec": {
   "display_name": "Python 3",
   "language": "python",
   "name": "python3"
  },
  "language_info": {
   "codemirror_mode": {
    "name": "ipython",
    "version": 3
   },
   "file_extension": ".py",
   "mimetype": "text/x-python",
   "name": "python",
   "nbconvert_exporter": "python",
   "pygments_lexer": "ipython3",
   "version": "3.6.4"
  }
 },
 "nbformat": 4,
 "nbformat_minor": 2
}
